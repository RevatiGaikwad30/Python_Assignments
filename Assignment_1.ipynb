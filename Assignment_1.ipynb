{
 "cells": [
  {
   "cell_type": "markdown",
   "id": "3ed0e94f-aed5-40fc-b3ed-abeb053a18cb",
   "metadata": {},
   "source": [
    "## Q1. Create one variable containing following type of data:\n",
    "\n"
   ]
  },
  {
   "cell_type": "markdown",
   "id": "72c6c3ec-e9b6-43aa-8e0a-ed0194d07d7a",
   "metadata": {},
   "source": [
    "### (i)\tstring"
   ]
  },
  {
   "cell_type": "code",
   "execution_count": null,
   "id": "b6f5c572-eff4-4041-8ff6-72a7fd86444c",
   "metadata": {},
   "outputs": [],
   "source": [
    "Learning_Python= \"PWSKILLS\""
   ]
  },
  {
   "cell_type": "markdown",
   "id": "b5ed7f3f-1e2f-4381-98e4-53f7fb387a5a",
   "metadata": {},
   "source": [
    "### (ii)\tlist"
   ]
  },
  {
   "cell_type": "code",
   "execution_count": null,
   "id": "c46267b3-c92f-4361-bb82-7a6d5452fe12",
   "metadata": {},
   "outputs": [],
   "source": [
    "List=[\"python\",3.0,2023,\"Machine Learning\"]"
   ]
  },
  {
   "cell_type": "markdown",
   "id": "e0a6172f-b9b2-4e06-a380-a3757f8b9e99",
   "metadata": {},
   "source": [
    "### (iii)\tfloat"
   ]
  },
  {
   "cell_type": "code",
   "execution_count": null,
   "id": "16d4671b-5841-4ce9-8f78-d37349766c8e",
   "metadata": {},
   "outputs": [],
   "source": [
    "Var1=45.67"
   ]
  },
  {
   "cell_type": "markdown",
   "id": "87d9460f-eb6d-480a-8cf8-460c71596958",
   "metadata": {},
   "source": [
    "### (iv) tuple"
   ]
  },
  {
   "cell_type": "code",
   "execution_count": null,
   "id": "78074e97-da00-4499-89d6-c1b53f7a6992",
   "metadata": {},
   "outputs": [],
   "source": [
    "tuple= (\"PW\",\"PW\",12.45,1)"
   ]
  },
  {
   "cell_type": "markdown",
   "id": "8daa0af4-66e2-4047-a2c1-2faf80a0f5e0",
   "metadata": {},
   "source": [
    "## Q2. Given are some following variables containing data:\n",
    "\n",
    "(i)\tvar1 = ‘ ‘\n",
    "\n",
    "(ii)\tvar2 = ‘[ DS , ML , Python]’\n",
    "\n",
    "(iii)\tvar3 = [ ‘DS’ , ’ML’ , ‘Python’ ]\n",
    "\n",
    "(iv)\tvar4 = 1.\n",
    "\n",
    "\n",
    "## What will be the data type of the above given variable."
   ]
  },
  {
   "cell_type": "markdown",
   "id": "6f972d53-c100-4bcf-8078-23ea283792c5",
   "metadata": {},
   "source": [
    "### (i)\tvar1 = ‘ ‘\n"
   ]
  },
  {
   "cell_type": "code",
   "execution_count": 9,
   "id": "dfea70d1-6a68-4492-9ed9-3dbfca037870",
   "metadata": {},
   "outputs": [
    {
     "name": "stdout",
     "output_type": "stream",
     "text": [
      "Data type of given variable is : <class 'str'>\n"
     ]
    }
   ],
   "source": [
    "var1 =''\n",
    "print(\"Data type of given variable is :\", type(var1))"
   ]
  },
  {
   "cell_type": "markdown",
   "id": "4e2f7c69-ff4d-4b82-95de-91407cc631bc",
   "metadata": {},
   "source": [
    "### (ii) var2 = ‘[ DS , ML , Python]’"
   ]
  },
  {
   "cell_type": "code",
   "execution_count": 10,
   "id": "233aec29-9bf5-40e8-911e-54bcf726dd32",
   "metadata": {},
   "outputs": [
    {
     "name": "stdout",
     "output_type": "stream",
     "text": [
      "Data type of given variable is : <class 'str'>\n"
     ]
    }
   ],
   "source": [
    "var2 = '[ DS , ML , Python]'\n",
    "print(\"Data type of given variable is :\", type(var2))\n"
   ]
  },
  {
   "cell_type": "markdown",
   "id": "d82e5352-f0d1-4d3a-86e5-6f251643abd6",
   "metadata": {},
   "source": [
    "### (iii)\tvar3 = [ ‘DS’ , ’ML’ , ‘Python’ ]"
   ]
  },
  {
   "cell_type": "code",
   "execution_count": 11,
   "id": "255c3a34-a79d-41ac-ab56-1e1f4b3d6009",
   "metadata": {},
   "outputs": [
    {
     "name": "stdout",
     "output_type": "stream",
     "text": [
      "Data type of given variable is : <class 'list'>\n"
     ]
    }
   ],
   "source": [
    "var3 = [ 'DS' , 'ML' , 'Python']\n",
    "print(\"Data type of given variable is :\", type(var3))"
   ]
  },
  {
   "cell_type": "markdown",
   "id": "890ee01f-4a96-443b-86bc-663a50005b5e",
   "metadata": {},
   "source": [
    "### (iv) var4 = 1."
   ]
  },
  {
   "cell_type": "code",
   "execution_count": 12,
   "id": "20c7cb69-bc52-439e-93b2-cc0570d12453",
   "metadata": {},
   "outputs": [
    {
     "name": "stdout",
     "output_type": "stream",
     "text": [
      "Data type of given variable is: <class 'float'>\n"
     ]
    }
   ],
   "source": [
    "var4 = 1.\n",
    "print(\"Data type of given variable is:\", type(var4))"
   ]
  },
  {
   "cell_type": "markdown",
   "id": "afc130d8-2d71-4969-b174-70a9db75c828",
   "metadata": {},
   "source": [
    "## Q3. Explain the use of the following operators using an example:\n"
   ]
  },
  {
   "cell_type": "markdown",
   "id": "73e72c9b-de8f-4817-8460-174b59b1b9b1",
   "metadata": {},
   "source": [
    "### (i) / \n"
   ]
  },
  {
   "cell_type": "code",
   "execution_count": 9,
   "id": "7284e7d7-856c-4da5-9901-5bdc4ba5cc31",
   "metadata": {},
   "outputs": [
    {
     "data": {
      "text/plain": [
       "0.8"
      ]
     },
     "execution_count": 9,
     "metadata": {},
     "output_type": "execute_result"
    }
   ],
   "source": [
    "#Example \n",
    "4/5\n",
    "#Division operator is used to give quotient of two integers. Result always has type float."
   ]
  },
  {
   "cell_type": "markdown",
   "id": "7a0a0c5d-8710-4d6a-a3b0-fad0a426cf55",
   "metadata": {},
   "source": [
    "### (ii) % "
   ]
  },
  {
   "cell_type": "code",
   "execution_count": 13,
   "id": "287012b9-1d36-4282-ae9a-699bd92804b8",
   "metadata": {},
   "outputs": [
    {
     "data": {
      "text/plain": [
       "0"
      ]
     },
     "execution_count": 13,
     "metadata": {},
     "output_type": "execute_result"
    }
   ],
   "source": [
    "#Example\n",
    "10%2\n",
    "#Modulus operator is used to give remainder when a is divided by b"
   ]
  },
  {
   "cell_type": "markdown",
   "id": "45d02f65-6b80-4245-a380-193686cd3d17",
   "metadata": {},
   "source": [
    "### (iii) //\n"
   ]
  },
  {
   "cell_type": "code",
   "execution_count": 11,
   "id": "5149f963-039c-4057-aa1d-671c64fe89a9",
   "metadata": {},
   "outputs": [
    {
     "data": {
      "text/plain": [
       "7"
      ]
     },
     "execution_count": 11,
     "metadata": {},
     "output_type": "execute_result"
    }
   ],
   "source": [
    "15//2\n",
    "# Floor division is used to give quotient when a is divided by b, rounded to the next smallest whole number"
   ]
  },
  {
   "cell_type": "markdown",
   "id": "a64e4db4-b0c0-4f7a-8312-1ac8d8488c86",
   "metadata": {},
   "source": [
    "### (iv) **"
   ]
  },
  {
   "cell_type": "code",
   "execution_count": 12,
   "id": "b883160b-1357-473b-b083-390348499fb3",
   "metadata": {},
   "outputs": [
    {
     "data": {
      "text/plain": [
       "8"
      ]
     },
     "execution_count": 12,
     "metadata": {},
     "output_type": "execute_result"
    }
   ],
   "source": [
    "2**3\n",
    "#For numeric data types, double-asterisk (**) is defined as an Exponentiation Operator,It is also known as Power operator.\n"
   ]
  },
  {
   "cell_type": "markdown",
   "id": "348f1f07-8075-40f6-90ea-63ae599fab23",
   "metadata": {},
   "source": [
    "## Q4. Create a list of length 10 of your choice containing multiple types of data. Using for loop print the element and its data type."
   ]
  },
  {
   "cell_type": "code",
   "execution_count": 16,
   "id": "0257f40d-817d-4037-a024-2c005880baa1",
   "metadata": {},
   "outputs": [
    {
     "name": "stdout",
     "output_type": "stream",
     "text": [
      "(4+5j) Is of data type: <class 'complex'>\n",
      "abc Is of data type: <class 'str'>\n",
      "Data Science Is of data type: <class 'str'>\n",
      "Python Is of data type: <class 'str'>\n",
      "Jupyter Is of data type: <class 'str'>\n",
      "3.0 Is of data type: <class 'float'>\n",
      "abc Is of data type: <class 'str'>\n",
      "(7+9j) Is of data type: <class 'complex'>\n",
      "PW Is of data type: <class 'str'>\n",
      "9.0 Is of data type: <class 'float'>\n"
     ]
    }
   ],
   "source": [
    "list1=[4+5j,\"abc\",\"Data Science\",\"Python\",\"Jupyter\",3.0,\"abc\",7+9j,\"PW\",9.0]\n",
    "for i in list1:\n",
    "    print(i,\"Is of data type:\", type(i))"
   ]
  },
  {
   "cell_type": "markdown",
   "id": "708e1080-1e71-41bb-b01b-85f90b0186e3",
   "metadata": {},
   "source": [
    "## Q5. Using a while loop, verify if the number A is purely divisible by number B and if so then how many times it can be divisible"
   ]
  },
  {
   "cell_type": "code",
   "execution_count": 4,
   "id": "8b20a6aa-18d8-42c3-a3e8-f917ba216aca",
   "metadata": {},
   "outputs": [
    {
     "name": "stdout",
     "output_type": "stream",
     "text": [
      "Enter value for A\n"
     ]
    },
    {
     "name": "stdin",
     "output_type": "stream",
     "text": [
      " 14\n"
     ]
    },
    {
     "name": "stdout",
     "output_type": "stream",
     "text": [
      "Enter value for B\n"
     ]
    },
    {
     "name": "stdin",
     "output_type": "stream",
     "text": [
      " 2\n"
     ]
    },
    {
     "name": "stdout",
     "output_type": "stream",
     "text": [
      "Number 7 is divisible by Number 2 1 times.\n"
     ]
    }
   ],
   "source": [
    "print(\"Enter value for A\")\n",
    "A=int(input())\n",
    "print(\"Enter value for B\")\n",
    "B=int(input())\n",
    "count=0\n",
    "\n",
    "while A%B==0:\n",
    "    A=A//B\n",
    "    count+=1\n",
    "print(\"Number\",A,\"is divisible by Number\",B, count,\"times.\")\n"
   ]
  },
  {
   "cell_type": "markdown",
   "id": "29d397e1-bb1d-459d-bc26-ae49a29dd5f7",
   "metadata": {},
   "source": [
    "## Q6. Create a list containing 25 int type data. Using for loop and if-else condition print if the element is divisible by 3 or not"
   ]
  },
  {
   "cell_type": "code",
   "execution_count": 8,
   "id": "272b05de-d321-419e-81eb-0c1b0700f5c5",
   "metadata": {},
   "outputs": [
    {
     "name": "stdout",
     "output_type": "stream",
     "text": [
      "1 is not Divisible by 3\n",
      "2 is not Divisible by 3\n",
      "3 is Divisible by 3\n",
      "4 is not Divisible by 3\n",
      "5 is not Divisible by 3\n",
      "6 is Divisible by 3\n",
      "7 is not Divisible by 3\n",
      "8 is not Divisible by 3\n",
      "9 is Divisible by 3\n",
      "10 is not Divisible by 3\n",
      "11 is not Divisible by 3\n",
      "12 is Divisible by 3\n",
      "13 is not Divisible by 3\n",
      "14 is not Divisible by 3\n",
      "15 is Divisible by 3\n",
      "16 is not Divisible by 3\n",
      "17 is not Divisible by 3\n",
      "18 is Divisible by 3\n",
      "19 is not Divisible by 3\n",
      "20 is not Divisible by 3\n",
      "21 is Divisible by 3\n",
      "22 is not Divisible by 3\n",
      "23 is not Divisible by 3\n",
      "24 is Divisible by 3\n",
      "25 is not Divisible by 3\n"
     ]
    }
   ],
   "source": [
    "list1=[1,2,3,4,5,6,7,8,9,10,11,12,13,14,15,16,17,18,19,20,21,22,23,24,25]\n",
    "for i in list1:\n",
    "    if i%3==0:\n",
    "        print(i,\"is Divisible by 3\")\n",
    "    else:\n",
    "        print(i,\"is not Divisible by 3\")"
   ]
  },
  {
   "cell_type": "markdown",
   "id": "59a569a4-a980-4c6d-a5e6-f25d19a4fa7f",
   "metadata": {},
   "source": [
    "## Q7. What do you understand about mutable and immutable data types? Give examples for both showing this property\n",
    "Mutable Data Types: Mutable data types can be changed after they have been created. We can modify their values or contents without having to create a new object. When we need to update or modify data in-place, mutable objects come in handy. Example: String type data.\n",
    "\n",
    "Immutable Data Types: Immutable data types have values that cannot be modified once they are formed. If we want to make modifications to an immutable object, we must first construct a new object with the desired changes. Example: List type data."
   ]
  },
  {
   "cell_type": "code",
   "execution_count": 8,
   "id": "7acda6fa-9847-4b19-a49a-c3281b536523",
   "metadata": {},
   "outputs": [
    {
     "name": "stdout",
     "output_type": "stream",
     "text": [
      "['Revati', 2, 2023]\n",
      "Revati\n"
     ]
    }
   ],
   "source": [
    "#Mutable Data type: List\n",
    "List2=[\"Revati\",2,7.8]\n",
    "List2[2]=2023 \n",
    "print(List2)\n",
    "\n",
    "#Immutable Data type: String\n",
    "string=\"Revati\"\n",
    "#string[2]=\"W\" # Trying to modify the element in string ,this will give error.\n",
    "print(string)\n"
   ]
  }
 ],
 "metadata": {
  "kernelspec": {
   "display_name": "Python 3 (ipykernel)",
   "language": "python",
   "name": "python3"
  },
  "language_info": {
   "codemirror_mode": {
    "name": "ipython",
    "version": 3
   },
   "file_extension": ".py",
   "mimetype": "text/x-python",
   "name": "python",
   "nbconvert_exporter": "python",
   "pygments_lexer": "ipython3",
   "version": "3.10.8"
  }
 },
 "nbformat": 4,
 "nbformat_minor": 5
}
